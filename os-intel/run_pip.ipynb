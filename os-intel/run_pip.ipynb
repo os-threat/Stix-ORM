{
 "cells": [
  {
   "cell_type": "code",
   "execution_count": 1,
   "id": "90306904-f9c4-497c-8e7c-93c2169a4ebb",
   "metadata": {},
   "outputs": [
    {
     "name": "stdout",
     "output_type": "stream",
     "text": [
      "Looking in indexes: https://test.pypi.org/simple/\n",
      "Collecting stixorm\n",
      "  Downloading https://test-files.pythonhosted.org/packages/aa/3a/2c63cf9dd598021244f6ab5bc93d9f7d0e4ed69c90591b7694505dd5bcee/stixorm-0.1.3-py3-none-any.whl (176 kB)\n",
      "\u001b[2K     \u001b[90m━━━━━━━━━━━━━━━━━━━━━━━━━━━━━━━━━━━━━\u001b[0m \u001b[32m176.5/176.5 kB\u001b[0m \u001b[31m480.8 kB/s\u001b[0m eta \u001b[36m0:00:00\u001b[0m00:01\u001b[0m00:01\u001b[0m\n",
      "\u001b[?25hInstalling collected packages: stixorm\n",
      "Successfully installed stixorm-0.1.3\n",
      "\n",
      "\u001b[1m[\u001b[0m\u001b[34;49mnotice\u001b[0m\u001b[1;39;49m]\u001b[0m\u001b[39;49m A new release of pip available: \u001b[0m\u001b[31;49m22.3.1\u001b[0m\u001b[39;49m -> \u001b[0m\u001b[32;49m23.1.2\u001b[0m\n",
      "\u001b[1m[\u001b[0m\u001b[34;49mnotice\u001b[0m\u001b[1;39;49m]\u001b[0m\u001b[39;49m To update, run: \u001b[0m\u001b[32;49mpip install --upgrade pip\u001b[0m\n"
     ]
    }
   ],
   "source": [
    "!pip install --index-url https://test.pypi.org/simple/ --no-deps stixorm"
   ]
  },
  {
   "cell_type": "code",
   "execution_count": 3,
   "id": "3652a3f3-9d99-425a-b4ed-28999d02b098",
   "metadata": {},
   "outputs": [
    {
     "name": "stderr",
     "output_type": "stream",
     "text": [
      "\u001b[32m2023-05-23 09:15:55.449\u001b[0m | \u001b[34m\u001b[1mDEBUG   \u001b[0m | \u001b[36mstixorm.module.definitions.stix21\u001b[0m:\u001b[36m<module>\u001b[0m:\u001b[36m171\u001b[0m - \u001b[34m\u001b[1mLoaded 135 stix dictionary objects\u001b[0m\n",
      "\u001b[32m2023-05-23 09:15:55.454\u001b[0m | \u001b[34m\u001b[1mDEBUG   \u001b[0m | \u001b[36mstixorm.module.definitions.attack\u001b[0m:\u001b[36m<module>\u001b[0m:\u001b[36m120\u001b[0m - \u001b[34m\u001b[1mLoaded 39 attack dictionary objects\u001b[0m\n",
      "\u001b[32m2023-05-23 09:15:55.457\u001b[0m | \u001b[34m\u001b[1mDEBUG   \u001b[0m | \u001b[36mstixorm.module.definitions.os_threat\u001b[0m:\u001b[36m<module>\u001b[0m:\u001b[36m94\u001b[0m - \u001b[34m\u001b[1mLoaded 14 os-threat dictionary objects\u001b[0m\n",
      "\u001b[32m2023-05-23 09:15:55.458\u001b[0m | \u001b[34m\u001b[1mDEBUG   \u001b[0m | \u001b[36mstixorm.module.definitions.cacao\u001b[0m:\u001b[36m<module>\u001b[0m:\u001b[36m84\u001b[0m - \u001b[34m\u001b[1mLoaded 1 cacao dictionary objects\u001b[0m\n",
      "\u001b[32m2023-05-23 09:15:55.459\u001b[0m | \u001b[34m\u001b[1mDEBUG   \u001b[0m | \u001b[36mstixorm.module.definitions.kestrel\u001b[0m:\u001b[36m<module>\u001b[0m:\u001b[36m83\u001b[0m - \u001b[34m\u001b[1mLoaded 1 kestrel dictionary objects\u001b[0m\n"
     ]
    }
   ],
   "source": [
    "from stixorm.module.authorise import import_type_factory\n",
    "from stixorm.module.typedb import TypeDBSink\n",
    "from stixorm.module.typedb_lib.instructions import ResultStatus"
   ]
  },
  {
   "cell_type": "code",
   "execution_count": 5,
   "id": "3f896420-6bbc-4980-aa4c-b7b1fd66ef89",
   "metadata": {},
   "outputs": [],
   "source": [
    "import pathlib"
   ]
  },
  {
   "cell_type": "code",
   "execution_count": 10,
   "id": "f423741c-f0c2-4f20-976d-6a6299b686fc",
   "metadata": {},
   "outputs": [],
   "source": [
    "connection = {\n",
    "    \"uri\": \"localhost\",\n",
    "    \"port\": \"1729\",\n",
    "    \"database\": \"stix\",\n",
    "    \"user\": None,\n",
    "    \"password\": None\n",
    "}\n",
    "\n",
    "schema_path = path = str(pathlib.Path().resolve().parents[1])\n",
    "\n",
    "import_type = import_type_factory.get_attack_import()"
   ]
  },
  {
   "cell_type": "code",
   "execution_count": 11,
   "id": "1af817cc-3a11-4485-aac2-99e47dc10fe3",
   "metadata": {},
   "outputs": [
    {
     "name": "stderr",
     "output_type": "stream",
     "text": [
      "INFO:stixorm.module.typedb_lib.handlers:Failure in result for: assign result\n",
      "ERROR:root:Traceback (most recent call last):\n",
      "\n",
      "  File \"/home/robomotic/DevOps/github/Stix-ORM-public/venv/lib/python3.10/site-packages/returns/result.py\", line 561, in decorator\n",
      "    return Success(inner_function(*args, **kwargs))\n",
      "\n",
      "  File \"/home/robomotic/DevOps/github/Stix-ORM-public/venv/lib/python3.10/site-packages/stixorm/module/typedb.py\", line 179, in __assign_schemas\n",
      "    assert os.path.isfile(self.cti_schema_stix)\n",
      "\n",
      "AssertionError\n",
      "NoneType: None\n",
      "INFO:stixorm.module.typedb_lib.handlers:Failure in result for: history schema result\n",
      "ERROR:root:Traceback (most recent call last):\n",
      "\n",
      "  File \"/home/robomotic/DevOps/github/Stix-ORM-public/venv/lib/python3.10/site-packages/returns/result.py\", line 561, in decorator\n",
      "    return Success(inner_function(*args, **kwargs))\n",
      "\n",
      "  File \"/home/robomotic/DevOps/github/Stix-ORM-public/venv/lib/python3.10/site-packages/stixorm/module/typedb.py\", line 166, in __load_stix_schema\n",
      "    load_schema(self._stix_connection, str(self.cti_schema_stix), \"Stix 2.1 Schema \")\n",
      "\n",
      "  File \"/home/robomotic/DevOps/github/Stix-ORM-public/venv/lib/python3.10/site-packages/stixorm/module/initialise.py\", line 75, in load_schema\n",
      "    assert os.path.exists(rel_path), \"File path needs to exist\"\n",
      "\n",
      "AssertionError: File path needs to exist\n",
      "NoneType: None\n",
      "INFO:stixorm.module.typedb_lib.handlers:Failure in result for: history attack result\n",
      "ERROR:root:Traceback (most recent call last):\n",
      "\n",
      "  File \"/home/robomotic/DevOps/github/Stix-ORM-public/venv/lib/python3.10/site-packages/returns/result.py\", line 561, in decorator\n",
      "    return Success(inner_function(*args, **kwargs))\n",
      "\n",
      "  File \"/home/robomotic/DevOps/github/Stix-ORM-public/venv/lib/python3.10/site-packages/stixorm/module/typedb.py\", line 140, in __load_attack_schema\n",
      "    load_schema(self._stix_connection, str(self.cti_schema_attack), \"ATT&CK Schema\")\n",
      "\n",
      "AttributeError: 'TypeDBSink' object has no attribute 'cti_schema_attack'\n",
      "NoneType: None\n"
     ]
    },
    {
     "data": {
      "text/plain": [
       "True"
      ]
     },
     "execution_count": 11,
     "metadata": {},
     "output_type": "execute_result"
    }
   ],
   "source": [
    "db = TypeDBSink(\n",
    "    connection=connection,\n",
    "    clear=True,\n",
    "    import_type=import_type,\n",
    "    schema_path=schema_path\n",
    ")\n",
    "db.clear_db()"
   ]
  },
  {
   "cell_type": "code",
   "execution_count": null,
   "id": "76ff2f53-a4d5-44b5-a555-d32c6adaf917",
   "metadata": {},
   "outputs": [],
   "source": []
  }
 ],
 "metadata": {
  "kernelspec": {
   "display_name": "Python 3 (ipykernel)",
   "language": "python",
   "name": "python3"
  },
  "language_info": {
   "codemirror_mode": {
    "name": "ipython",
    "version": 3
   },
   "file_extension": ".py",
   "mimetype": "text/x-python",
   "name": "python",
   "nbconvert_exporter": "python",
   "pygments_lexer": "ipython3",
   "version": "3.10.11"
  }
 },
 "nbformat": 4,
 "nbformat_minor": 5
}
