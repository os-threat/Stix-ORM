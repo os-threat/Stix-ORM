{
 "cells": [
  {
   "cell_type": "code",
   "execution_count": 1,
   "id": "90d98d91-642d-4105-90ee-ab6563f8c517",
   "metadata": {},
   "outputs": [
    {
     "name": "stderr",
     "output_type": "stream",
     "text": [
      "[2023-10-10 22:19:37,814] ERROR [root:161] cannot import name 'EvidenceCoreExt' from 'stixorm.module.definitions.os_threat.classes' (C:\\Users\\brett\\PycharmProjects\\Stix-ORM\\stixorm\\module\\definitions\\os_threat\\classes.py)\n",
      "Traceback (most recent call last):\n",
      "  File \"C:\\Users\\brett\\PycharmProjects\\Stix-ORM\\stixorm\\module\\typedb_lib\\factories\\definition_factory.py\", line 156, in __init__\n",
      "    subpackage = importer.find_module(subpackage_name).load_module(subpackage_name)\n",
      "  File \"<frozen importlib._bootstrap_external>\", line 529, in _check_name_wrapper\n",
      "  File \"<frozen importlib._bootstrap_external>\", line 1029, in load_module\n",
      "  File \"<frozen importlib._bootstrap_external>\", line 854, in load_module\n",
      "  File \"<frozen importlib._bootstrap>\", line 274, in _load_module_shim\n",
      "  File \"<frozen importlib._bootstrap>\", line 711, in _load\n",
      "  File \"<frozen importlib._bootstrap>\", line 680, in _load_unlocked\n",
      "  File \"<frozen importlib._bootstrap_external>\", line 850, in exec_module\n",
      "  File \"<frozen importlib._bootstrap>\", line 228, in _call_with_frames_removed\n",
      "  File \"C:\\Users\\brett\\PycharmProjects\\Stix-ORM\\stixorm\\module\\definitions\\os_threat\\__init__.py\", line 24, in <module>\n",
      "    from stixorm.module.definitions.os_threat.classes import (\n",
      "ImportError: cannot import name 'EvidenceCoreExt' from 'stixorm.module.definitions.os_threat.classes' (C:\\Users\\brett\\PycharmProjects\\Stix-ORM\\stixorm\\module\\definitions\\os_threat\\classes.py)\n"
     ]
    },
    {
     "ename": "Exception",
     "evalue": "Definition for os_threat not found",
     "output_type": "error",
     "traceback": [
      "\u001b[1;31m---------------------------------------------------------------------------\u001b[0m",
      "\u001b[1;31mException\u001b[0m                                 Traceback (most recent call last)",
      "Cell \u001b[1;32mIn[1], line 7\u001b[0m\n\u001b[0;32m      3\u001b[0m \u001b[38;5;28;01mimport\u001b[39;00m \u001b[38;5;21;01mdatetime\u001b[39;00m\n\u001b[0;32m      5\u001b[0m \u001b[38;5;66;03m#import dateutil.parser\u001b[39;00m\n\u001b[0;32m      6\u001b[0m \u001b[38;5;66;03m#from dateutil.parser import *\u001b[39;00m\n\u001b[1;32m----> 7\u001b[0m \u001b[38;5;28;01mfrom\u001b[39;00m \u001b[38;5;21;01mstixorm\u001b[39;00m\u001b[38;5;21;01m.\u001b[39;00m\u001b[38;5;21;01mmodule\u001b[39;00m\u001b[38;5;21;01m.\u001b[39;00m\u001b[38;5;21;01mtypedb\u001b[39;00m \u001b[38;5;28;01mimport\u001b[39;00m TypeDBSink, TypeDBSource, get_embedded_match\n\u001b[0;32m      8\u001b[0m \u001b[38;5;28;01mfrom\u001b[39;00m \u001b[38;5;21;01mtypedb\u001b[39;00m\u001b[38;5;21;01m.\u001b[39;00m\u001b[38;5;21;01mclient\u001b[39;00m \u001b[38;5;28;01mimport\u001b[39;00m \u001b[38;5;241m*\u001b[39m\n\u001b[0;32m      9\u001b[0m \u001b[38;5;28;01mfrom\u001b[39;00m \u001b[38;5;21;01mstixorm\u001b[39;00m\u001b[38;5;21;01m.\u001b[39;00m\u001b[38;5;21;01mmodule\u001b[39;00m\u001b[38;5;21;01m.\u001b[39;00m\u001b[38;5;21;01morm\u001b[39;00m\u001b[38;5;21;01m.\u001b[39;00m\u001b[38;5;21;01mimport_objects\u001b[39;00m \u001b[38;5;28;01mimport\u001b[39;00m raw_stix2_to_typeql\n",
      "File \u001b[1;32m~\\PycharmProjects\\Stix-ORM\\stixorm\\module\\typedb.py:7\u001b[0m\n\u001b[0;32m      5\u001b[0m \u001b[38;5;28;01mfrom\u001b[39;00m \u001b[38;5;21;01mdataclasses\u001b[39;00m \u001b[38;5;28;01mimport\u001b[39;00m dataclass\n\u001b[0;32m      6\u001b[0m \u001b[38;5;28;01mfrom\u001b[39;00m \u001b[38;5;21;01mtypedb\u001b[39;00m\u001b[38;5;21;01m.\u001b[39;00m\u001b[38;5;21;01mclient\u001b[39;00m \u001b[38;5;28;01mimport\u001b[39;00m \u001b[38;5;241m*\u001b[39m\n\u001b[1;32m----> 7\u001b[0m \u001b[38;5;28;01mfrom\u001b[39;00m \u001b[38;5;21;01mstixorm\u001b[39;00m\u001b[38;5;21;01m.\u001b[39;00m\u001b[38;5;21;01mmodule\u001b[39;00m\u001b[38;5;21;01m.\u001b[39;00m\u001b[38;5;21;01morm\u001b[39;00m\u001b[38;5;21;01m.\u001b[39;00m\u001b[38;5;21;01mimport_objects\u001b[39;00m \u001b[38;5;28;01mimport\u001b[39;00m raw_stix2_to_typeql\n\u001b[0;32m      8\u001b[0m \u001b[38;5;28;01mfrom\u001b[39;00m \u001b[38;5;21;01mstixorm\u001b[39;00m\u001b[38;5;21;01m.\u001b[39;00m\u001b[38;5;21;01mmodule\u001b[39;00m\u001b[38;5;21;01m.\u001b[39;00m\u001b[38;5;21;01morm\u001b[39;00m\u001b[38;5;21;01m.\u001b[39;00m\u001b[38;5;21;01mdelete_object\u001b[39;00m \u001b[38;5;28;01mimport\u001b[39;00m delete_stix_object, add_delete_layers\n\u001b[0;32m      9\u001b[0m \u001b[38;5;28;01mfrom\u001b[39;00m \u001b[38;5;21;01mstixorm\u001b[39;00m\u001b[38;5;21;01m.\u001b[39;00m\u001b[38;5;21;01mmodule\u001b[39;00m\u001b[38;5;21;01m.\u001b[39;00m\u001b[38;5;21;01morm\u001b[39;00m\u001b[38;5;21;01m.\u001b[39;00m\u001b[38;5;21;01mexport_object\u001b[39;00m \u001b[38;5;28;01mimport\u001b[39;00m convert_ans_to_stix\n",
      "File \u001b[1;32m~\\PycharmProjects\\Stix-ORM\\stixorm\\module\\orm\\import_objects.py:5\u001b[0m\n\u001b[0;32m      2\u001b[0m \u001b[38;5;28;01mfrom\u001b[39;00m \u001b[38;5;21;01mtyping\u001b[39;00m \u001b[38;5;28;01mimport\u001b[39;00m Dict\n\u001b[0;32m      4\u001b[0m \u001b[38;5;28;01mfrom\u001b[39;00m \u001b[38;5;21;01mstixorm\u001b[39;00m\u001b[38;5;21;01m.\u001b[39;00m\u001b[38;5;21;01mmodule\u001b[39;00m\u001b[38;5;21;01m.\u001b[39;00m\u001b[38;5;21;01mauthorise\u001b[39;00m \u001b[38;5;28;01mimport\u001b[39;00m authorised_mappings, default_import_type\n\u001b[1;32m----> 5\u001b[0m \u001b[38;5;28;01mfrom\u001b[39;00m \u001b[38;5;21;01mstixorm\u001b[39;00m\u001b[38;5;21;01m.\u001b[39;00m\u001b[38;5;21;01mmodule\u001b[39;00m\u001b[38;5;21;01m.\u001b[39;00m\u001b[38;5;21;01mparsing\u001b[39;00m\u001b[38;5;21;01m.\u001b[39;00m\u001b[38;5;21;01mconversion_decisions\u001b[39;00m \u001b[38;5;28;01mimport\u001b[39;00m sdo_type_to_tql, sro_type_to_tql, sco__type_to_tql, meta_type_to_tql\n\u001b[0;32m      7\u001b[0m \u001b[38;5;28;01mfrom\u001b[39;00m \u001b[38;5;21;01mstixorm\u001b[39;00m\u001b[38;5;21;01m.\u001b[39;00m\u001b[38;5;21;01mmodule\u001b[39;00m\u001b[38;5;21;01m.\u001b[39;00m\u001b[38;5;21;01morm\u001b[39;00m\u001b[38;5;21;01m.\u001b[39;00m\u001b[38;5;21;01mimport_utilities\u001b[39;00m \u001b[38;5;28;01mimport\u001b[39;00m clean_props, get_embedded_match, split_on_activity_type, \\\n\u001b[0;32m      8\u001b[0m     add_property_to_typeql, add_relation_to_typeql, val_tql\n\u001b[0;32m     10\u001b[0m \u001b[38;5;28;01mimport\u001b[39;00m \u001b[38;5;21;01mlogging\u001b[39;00m\n",
      "File \u001b[1;32m~\\PycharmProjects\\Stix-ORM\\stixorm\\module\\parsing\\conversion_decisions.py:20\u001b[0m\n\u001b[0;32m     18\u001b[0m attack_model \u001b[38;5;241m=\u001b[39m get_definition_factory_instance()\u001b[38;5;241m.\u001b[39mlookup_definition(DefinitionName\u001b[38;5;241m.\u001b[39mATTACK)\n\u001b[0;32m     19\u001b[0m stix_model \u001b[38;5;241m=\u001b[39m get_definition_factory_instance()\u001b[38;5;241m.\u001b[39mlookup_definition(DefinitionName\u001b[38;5;241m.\u001b[39mSTIX_21)\n\u001b[1;32m---> 20\u001b[0m os_threat_model \u001b[38;5;241m=\u001b[39m \u001b[43mget_definition_factory_instance\u001b[49m\u001b[43m(\u001b[49m\u001b[43m)\u001b[49m\u001b[38;5;241;43m.\u001b[39;49m\u001b[43mlookup_definition\u001b[49m\u001b[43m(\u001b[49m\u001b[43mDefinitionName\u001b[49m\u001b[38;5;241;43m.\u001b[39;49m\u001b[43mOS_THREAT\u001b[49m\u001b[43m)\u001b[49m\n\u001b[0;32m     23\u001b[0m \u001b[38;5;28;01mdef\u001b[39;00m \u001b[38;5;21msdo_type_to_tql\u001b[39m(sdo_type: \u001b[38;5;28mstr\u001b[39m,\n\u001b[0;32m     24\u001b[0m                     import_type:ImportType\u001b[38;5;241m=\u001b[39mdefault_import_type,\n\u001b[0;32m     25\u001b[0m                     attack_object\u001b[38;5;241m=\u001b[39m\u001b[38;5;28;01mFalse\u001b[39;00m, subtechnique\u001b[38;5;241m=\u001b[39m\u001b[38;5;28;01mFalse\u001b[39;00m, step_type\u001b[38;5;241m=\u001b[39m\u001b[38;5;124m\"\u001b[39m\u001b[38;5;124m\"\u001b[39m) \u001b[38;5;241m-\u001b[39m\u001b[38;5;241m>\u001b[39m [\u001b[38;5;28mdict\u001b[39m, \u001b[38;5;28mstr\u001b[39m, \u001b[38;5;28mdict\u001b[39m, \u001b[38;5;28mstr\u001b[39m]:\n\u001b[0;32m     26\u001b[0m \u001b[38;5;250m    \u001b[39m\u001b[38;5;124;03m\"\"\" convert Stix object into a data model for processing\u001b[39;00m\n\u001b[0;32m     27\u001b[0m \n\u001b[0;32m     28\u001b[0m \u001b[38;5;124;03m    Args:\u001b[39;00m\n\u001b[1;32m   (...)\u001b[0m\n\u001b[0;32m     36\u001b[0m \n\u001b[0;32m     37\u001b[0m \u001b[38;5;124;03m    \"\"\"\u001b[39;00m\n",
      "File \u001b[1;32m~\\PycharmProjects\\Stix-ORM\\stixorm\\module\\typedb_lib\\factories\\definition_factory.py:167\u001b[0m, in \u001b[0;36mDefinitionFactory.lookup_definition\u001b[1;34m(self, domain_name)\u001b[0m\n\u001b[0;32m    165\u001b[0m \u001b[38;5;28;01mif\u001b[39;00m domain_name\u001b[38;5;241m.\u001b[39mvalue \u001b[38;5;129;01min\u001b[39;00m \u001b[38;5;28mself\u001b[39m\u001b[38;5;241m.\u001b[39mdefinitions\u001b[38;5;241m.\u001b[39mkeys():\n\u001b[0;32m    166\u001b[0m     \u001b[38;5;28;01mreturn\u001b[39;00m \u001b[38;5;28mself\u001b[39m\u001b[38;5;241m.\u001b[39mdefinitions[domain_name\u001b[38;5;241m.\u001b[39mvalue]\n\u001b[1;32m--> 167\u001b[0m \u001b[38;5;28;01mraise\u001b[39;00m \u001b[38;5;167;01mException\u001b[39;00m(\u001b[38;5;124m\"\u001b[39m\u001b[38;5;124mDefinition for \u001b[39m\u001b[38;5;124m\"\u001b[39m \u001b[38;5;241m+\u001b[39m domain_name\u001b[38;5;241m.\u001b[39mvalue \u001b[38;5;241m+\u001b[39m \u001b[38;5;124m\"\u001b[39m\u001b[38;5;124m not found\u001b[39m\u001b[38;5;124m\"\u001b[39m)\n",
      "\u001b[1;31mException\u001b[0m: Definition for os_threat not found"
     ]
    }
   ],
   "source": [
    "import json\n",
    "import os\n",
    "import datetime\n",
    "\n",
    "#import dateutil.parser\n",
    "#from dateutil.parser import *\n",
    "from stixorm.module.typedb import TypeDBSink, TypeDBSource, get_embedded_match\n",
    "from typedb.client import *\n",
    "from stixorm.module.orm.import_objects import raw_stix2_to_typeql\n",
    "from stixorm.module.orm.delete_object import delete_stix_object\n",
    "from stixorm.module.orm.export_object import convert_ans_to_stix\n",
    "from stixorm.module.authorise import authorised_mappings, import_type_factory\n",
    "from stixorm.module.parsing.parse_objects import parse\n",
    "from stixorm.module.generate_docs import configure_overview_table_docs, object_tables\n",
    "from stixorm.module.initialise import sort_layers, load_typeql_data\n",
    "from stixorm.module.definitions.stix21 import ObservedData, IPv4Address\n",
    "from stixorm.module.definitions.os_threat import Feed, ThreatSubObject\n",
    "from stixorm.module.orm.import_utilities import val_tql\n",
    "#from stixorm.module.definitions.attack import attack_models\n",
    "#from stixorm.module.definitions.property_definitions import get_definitions\n",
    "import copy\n",
    "\n",
    "import logging\n",
    "\n",
    "from timeit import default_timer as timer"
   ]
  },
  {
   "cell_type": "code",
   "execution_count": null,
   "id": "ea6d4b5f-4ac6-4710-a93b-a84536f28c83",
   "metadata": {},
   "outputs": [],
   "source": []
  }
 ],
 "metadata": {
  "kernelspec": {
   "display_name": "Python 3 (ipykernel)",
   "language": "python",
   "name": "python3"
  },
  "language_info": {
   "codemirror_mode": {
    "name": "ipython",
    "version": 3
   },
   "file_extension": ".py",
   "mimetype": "text/x-python",
   "name": "python",
   "nbconvert_exporter": "python",
   "pygments_lexer": "ipython3",
   "version": "3.9.17"
  }
 },
 "nbformat": 4,
 "nbformat_minor": 5
}
